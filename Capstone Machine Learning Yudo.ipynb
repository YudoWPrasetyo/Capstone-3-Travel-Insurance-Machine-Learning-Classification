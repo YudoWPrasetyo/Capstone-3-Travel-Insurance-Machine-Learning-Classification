{
 "cells": [
  {
   "cell_type": "markdown",
   "id": "bd935492-7763-46a6-a025-5543970d31c8",
   "metadata": {
    "tags": []
   },
   "source": [
    "# **Capstone Module 3**\n",
    "\n",
    "Capstone Module 3 (Machine Learning)\n",
    "\n",
    "Membuat Machine Learning untuk mengelola dan membuat pemodelan dari data yang telah diberikan.\n",
    "Data yang akan digunakan adalah data Travel Insurance\n",
    "\n",
    "sumber data : [Data Travel Insurance](https://drive.google.com/file/d/1emDTGFvku7UuuVT3W-EmEvg3i61QrIU-/view)"
   ]
  },
  {
   "cell_type": "markdown",
   "id": "1bdf5234-844e-44c7-8ad3-95dffa2ac79f",
   "metadata": {},
   "source": [
    "### **Contents**\n",
    "\n",
    "1. Business Problem Understanding\n",
    "2. Data Understanding\n",
    "3. Data Preprocessing\n",
    "4. Modeling\n",
    "5. Conclusion\n",
    "6. Recommendation"
   ]
  },
  {
   "cell_type": "markdown",
   "id": "068ac8a3-6e51-49fb-b407-793e0e5f826d",
   "metadata": {},
   "source": [
    "### **Business Problem Understanding**"
   ]
  },
  {
   "cell_type": "markdown",
   "id": "9f786dfc-1465-4ebb-a2b4-6186cf6373b7",
   "metadata": {},
   "source": [
    "**Context**\n",
    "\n",
    "Asuransi perjalanan adalah asuransi yang memberikan perlindungan terhadap segala risiko yang mungkin terjadi ketika seseorang melakukan perjalanan, baik di dalam negeri maupun di luar negeri. Asuransi ini diutamakan bagi orang-orang yang kerap memiliki mobilitas tinggi, seperti bepergian ke luar kota hingga ke luar negeri. Kepemilikan perlindungan ini berfungsi untuk menekan dampak finansial dari risiko kerugian yang mungkin terjadi saat perjalanan tersebut. source: https://www.qoala.app/id/blog/asuransi/umum/apa-itu-asuransi-perjalanan/\n",
    "\n",
    "Bebebrapa manfaat yang didapatkan dari asuransi perjalanan atau Travel Insurance adalah Ganti Rugi Atas Kerusakan atau Kehilangan Bagasi, Ganti Rugi Keterlambatan atau Pembatalan Perjalanan, Biaya Pengobatan yang Ditanggung, Santunan Kecelakaan dan Kematian, Menanggung Kerugian Finansial Akibat Faktor Lain (Segala bentuk kerugian baik fisik, mental, serta finansial akan ditanggung oleh pihak asuransi)."
   ]
  },
  {
   "cell_type": "markdown",
   "id": "b37ab436-938b-4763-afea-1fdb4b9b374a",
   "metadata": {},
   "source": [
    "**Problem Statement**\n",
    "\n",
    "Salah satu tantangan terbesar bagi pihak jasa Travel Insurance adalah pemecahan masalah untuk dapat memiliki model bisnis yang menguntungkan secara finansial bagi pemilik jasa, serta dapat memberikan pengalaman positif terhadap pengguna jasa.\n",
    "\n",
    "Mengingat bahwa harga penawaran harus ideal, untuk menentukan harga jasa mereka, dengan hanya memberikan petunjuk minimal dengan tujuan memungkinkan Jasa Travel Insurance dapat menawarkan benefit yang diberikan dengan membandingkan kelebihan dengan jasa serupa di beberapa penyedia jasa Travel Insurance lainnya. Dari alasan tersebut digunakan untuk mendapatkan harga yang kompetitif. Penyedia Jasa Travel Insurance dapat memasukkan harga yang lebih tinggi untuk fasilitas tambahan apa pun yang mereka anggap perlu. Dengan bertambahnya penyedia jasa Travel Insurance, untuk menentukan harga yang tepat dan dapat tetap kompetitif yang akan ditawarkan sangatlah penting. Setelah pengguna jasa menggunakan jasa travel insurance maka langkah selanjutnya adalah mereka akan menentukan apakah mereka akan melakukan claim terhadap jasa tersebut ataupun tidak. "
   ]
  },
  {
   "cell_type": "markdown",
   "id": "955f083b-c706-47bb-b40e-ab507a320dc3",
   "metadata": {},
   "source": [
    "**Goals**\n",
    "\n",
    "Berdasarkan permasalahan tersebut, Penyedia jasa Travel Insurance harus atau sudah memiliki 'tool' yang dapat memprediksi serta membantu mereka mereka (dalam hal ini Travel Insurance) untuk dapat **Mengetahui Klasiifikasi Bagi Pengguna yang Claim Asuransi Pada Penyedia Jasa Travel Insurance**. Adanya perbedaan pada klasifikasi tersebut dapat menentukan profit bagi penyedia jasa Travel Insurance."
   ]
  },
  {
   "cell_type": "markdown",
   "id": "3a3d7f96-cf91-4ad1-ac77-5d450aca929b",
   "metadata": {},
   "source": [
    "**Analytic Approach**\n",
    "\n",
    "Dari pembahasan diatas maka yang saya akan lakukan  adalah menganalisis data untuk dapat menemukan pola dari fitur-fitur yang ada, yang membedakan Travel Insurance satu dengan yang lainnya. \n",
    "\n",
    "Selanjutnya, saya akan membangun suatu model Klasifikasi yang akan membantu Penyedia jasa Travel Insurance untuk dapat menyediakan 'tool' prediksi yang mana dapat menentukan klasifikasi mana yang akan dikelompokan bagi pengguna jasa."
   ]
  },
  {
   "cell_type": "markdown",
   "id": "5d5391e6-f805-4634-8af5-d91fdc95671b",
   "metadata": {},
   "source": [
    "**Metric Evaluation**\n",
    "\n",
    "Metrik Evaluasi yang akan digunakan adalah Precision, Recall, F1 Score. Dan difokuskan kepada Recall\n",
    "\n",
    "Claim Yes = Positif\n",
    "Kesalahan Tipe I (False Positif) - Menerima hipotesis nol palsu (Penumpang Aktual Tidak Claim tetapi diprediksi Claim)\n",
    "\n",
    "Kesalahan Tipe II (False Negatif) - Menolak hipotesis nol yang benar (Penumpang Aktual Claim Diprediksi Tidak Claim)\n",
    "\n",
    "Fokusnya adalah untuk mengetahui kesalahan Tipe I dan II karena akan menyebabkan lebih banyak kerugian.\n",
    "Oleh karena itu nilai Recall yang tinggi, tanpa mengorbankan nilai presisi yang rendah akan menjadi tujuannya. Menyeimbangkan recall dan precssion "
   ]
  },
  {
   "cell_type": "code",
   "execution_count": 1,
   "id": "a6061bb3",
   "metadata": {},
   "outputs": [],
   "source": [
    "import pandas as pd\n",
    "import numpy as np\n",
    "import matplotlib.pyplot as plt\n",
    "import seaborn as sns\n",
    "import warnings\n",
    "warnings.filterwarnings('ignore')\n",
    "import category_encoders as ce\n",
    "from sklearn.model_selection import train_test_split, GridSearchCV, StratifiedKFold\n",
    "from sklearn.pipeline import Pipeline\n",
    "from sklearn.impute import SimpleImputer, KNNImputer # digunakan untuk cek missing Value\n",
    "from sklearn.preprocessing import RobustScaler, PowerTransformer, PolynomialFeatures, OneHotEncoder\n",
    "from sklearn.compose import ColumnTransformer\n",
    "from sklearn.metrics import accuracy_score, recall_score, precision_score, f1_score # Evaluation Matrix\n",
    "from sklearn.metrics import classification_report, confusion_matrix\n",
    "from sklearn.metrics import confusion_matrix, classification_report\n",
    "from sklearn.ensemble import RandomForestClassifier\n",
    "import category_encoders as ce"
   ]
  },
  {
   "cell_type": "code",
   "execution_count": 2,
   "id": "7f33c3ab",
   "metadata": {},
   "outputs": [
    {
     "data": {
      "text/html": [
       "<div>\n",
       "<style scoped>\n",
       "    .dataframe tbody tr th:only-of-type {\n",
       "        vertical-align: middle;\n",
       "    }\n",
       "\n",
       "    .dataframe tbody tr th {\n",
       "        vertical-align: top;\n",
       "    }\n",
       "\n",
       "    .dataframe thead th {\n",
       "        text-align: right;\n",
       "    }\n",
       "</style>\n",
       "<table border=\"1\" class=\"dataframe\">\n",
       "  <thead>\n",
       "    <tr style=\"text-align: right;\">\n",
       "      <th></th>\n",
       "      <th>Agency</th>\n",
       "      <th>Agency Type</th>\n",
       "      <th>Distribution Channel</th>\n",
       "      <th>Product Name</th>\n",
       "      <th>Gender</th>\n",
       "      <th>Duration</th>\n",
       "      <th>Destination</th>\n",
       "      <th>Net Sales</th>\n",
       "      <th>Commision (in value)</th>\n",
       "      <th>Age</th>\n",
       "      <th>Claim</th>\n",
       "    </tr>\n",
       "  </thead>\n",
       "  <tbody>\n",
       "    <tr>\n",
       "      <th>0</th>\n",
       "      <td>C2B</td>\n",
       "      <td>Airlines</td>\n",
       "      <td>Online</td>\n",
       "      <td>Annual Silver Plan</td>\n",
       "      <td>F</td>\n",
       "      <td>365</td>\n",
       "      <td>SINGAPORE</td>\n",
       "      <td>216.0</td>\n",
       "      <td>54.00</td>\n",
       "      <td>57</td>\n",
       "      <td>No</td>\n",
       "    </tr>\n",
       "    <tr>\n",
       "      <th>1</th>\n",
       "      <td>EPX</td>\n",
       "      <td>Travel Agency</td>\n",
       "      <td>Online</td>\n",
       "      <td>Cancellation Plan</td>\n",
       "      <td>NaN</td>\n",
       "      <td>4</td>\n",
       "      <td>MALAYSIA</td>\n",
       "      <td>10.0</td>\n",
       "      <td>0.00</td>\n",
       "      <td>33</td>\n",
       "      <td>No</td>\n",
       "    </tr>\n",
       "    <tr>\n",
       "      <th>2</th>\n",
       "      <td>JZI</td>\n",
       "      <td>Airlines</td>\n",
       "      <td>Online</td>\n",
       "      <td>Basic Plan</td>\n",
       "      <td>M</td>\n",
       "      <td>19</td>\n",
       "      <td>INDIA</td>\n",
       "      <td>22.0</td>\n",
       "      <td>7.70</td>\n",
       "      <td>26</td>\n",
       "      <td>No</td>\n",
       "    </tr>\n",
       "    <tr>\n",
       "      <th>3</th>\n",
       "      <td>EPX</td>\n",
       "      <td>Travel Agency</td>\n",
       "      <td>Online</td>\n",
       "      <td>2 way Comprehensive Plan</td>\n",
       "      <td>NaN</td>\n",
       "      <td>20</td>\n",
       "      <td>UNITED STATES</td>\n",
       "      <td>112.0</td>\n",
       "      <td>0.00</td>\n",
       "      <td>59</td>\n",
       "      <td>No</td>\n",
       "    </tr>\n",
       "    <tr>\n",
       "      <th>4</th>\n",
       "      <td>C2B</td>\n",
       "      <td>Airlines</td>\n",
       "      <td>Online</td>\n",
       "      <td>Bronze Plan</td>\n",
       "      <td>M</td>\n",
       "      <td>8</td>\n",
       "      <td>SINGAPORE</td>\n",
       "      <td>16.0</td>\n",
       "      <td>4.00</td>\n",
       "      <td>28</td>\n",
       "      <td>No</td>\n",
       "    </tr>\n",
       "    <tr>\n",
       "      <th>...</th>\n",
       "      <td>...</td>\n",
       "      <td>...</td>\n",
       "      <td>...</td>\n",
       "      <td>...</td>\n",
       "      <td>...</td>\n",
       "      <td>...</td>\n",
       "      <td>...</td>\n",
       "      <td>...</td>\n",
       "      <td>...</td>\n",
       "      <td>...</td>\n",
       "      <td>...</td>\n",
       "    </tr>\n",
       "    <tr>\n",
       "      <th>44323</th>\n",
       "      <td>EPX</td>\n",
       "      <td>Travel Agency</td>\n",
       "      <td>Online</td>\n",
       "      <td>2 way Comprehensive Plan</td>\n",
       "      <td>NaN</td>\n",
       "      <td>14</td>\n",
       "      <td>CHINA</td>\n",
       "      <td>30.0</td>\n",
       "      <td>0.00</td>\n",
       "      <td>36</td>\n",
       "      <td>Yes</td>\n",
       "    </tr>\n",
       "    <tr>\n",
       "      <th>44324</th>\n",
       "      <td>CWT</td>\n",
       "      <td>Travel Agency</td>\n",
       "      <td>Online</td>\n",
       "      <td>Rental Vehicle Excess Insurance</td>\n",
       "      <td>NaN</td>\n",
       "      <td>17</td>\n",
       "      <td>AUSTRALIA</td>\n",
       "      <td>79.2</td>\n",
       "      <td>47.52</td>\n",
       "      <td>47</td>\n",
       "      <td>No</td>\n",
       "    </tr>\n",
       "    <tr>\n",
       "      <th>44325</th>\n",
       "      <td>TST</td>\n",
       "      <td>Travel Agency</td>\n",
       "      <td>Offline</td>\n",
       "      <td>Travel Cruise Protect</td>\n",
       "      <td>M</td>\n",
       "      <td>64</td>\n",
       "      <td>THAILAND</td>\n",
       "      <td>30.0</td>\n",
       "      <td>10.50</td>\n",
       "      <td>50</td>\n",
       "      <td>No</td>\n",
       "    </tr>\n",
       "    <tr>\n",
       "      <th>44326</th>\n",
       "      <td>EPX</td>\n",
       "      <td>Travel Agency</td>\n",
       "      <td>Online</td>\n",
       "      <td>2 way Comprehensive Plan</td>\n",
       "      <td>NaN</td>\n",
       "      <td>51</td>\n",
       "      <td>CHINA</td>\n",
       "      <td>36.0</td>\n",
       "      <td>0.00</td>\n",
       "      <td>36</td>\n",
       "      <td>No</td>\n",
       "    </tr>\n",
       "    <tr>\n",
       "      <th>44327</th>\n",
       "      <td>CWT</td>\n",
       "      <td>Travel Agency</td>\n",
       "      <td>Online</td>\n",
       "      <td>Rental Vehicle Excess Insurance</td>\n",
       "      <td>NaN</td>\n",
       "      <td>172</td>\n",
       "      <td>SINGAPORE</td>\n",
       "      <td>0.0</td>\n",
       "      <td>17.82</td>\n",
       "      <td>31</td>\n",
       "      <td>No</td>\n",
       "    </tr>\n",
       "  </tbody>\n",
       "</table>\n",
       "<p>44328 rows × 11 columns</p>\n",
       "</div>"
      ],
      "text/plain": [
       "      Agency    Agency Type Distribution Channel  \\\n",
       "0        C2B       Airlines               Online   \n",
       "1        EPX  Travel Agency               Online   \n",
       "2        JZI       Airlines               Online   \n",
       "3        EPX  Travel Agency               Online   \n",
       "4        C2B       Airlines               Online   \n",
       "...      ...            ...                  ...   \n",
       "44323    EPX  Travel Agency               Online   \n",
       "44324    CWT  Travel Agency               Online   \n",
       "44325    TST  Travel Agency              Offline   \n",
       "44326    EPX  Travel Agency               Online   \n",
       "44327    CWT  Travel Agency               Online   \n",
       "\n",
       "                          Product Name Gender  Duration    Destination  \\\n",
       "0                   Annual Silver Plan      F       365      SINGAPORE   \n",
       "1                    Cancellation Plan    NaN         4       MALAYSIA   \n",
       "2                           Basic Plan      M        19          INDIA   \n",
       "3             2 way Comprehensive Plan    NaN        20  UNITED STATES   \n",
       "4                          Bronze Plan      M         8      SINGAPORE   \n",
       "...                                ...    ...       ...            ...   \n",
       "44323         2 way Comprehensive Plan    NaN        14          CHINA   \n",
       "44324  Rental Vehicle Excess Insurance    NaN        17      AUSTRALIA   \n",
       "44325            Travel Cruise Protect      M        64       THAILAND   \n",
       "44326         2 way Comprehensive Plan    NaN        51          CHINA   \n",
       "44327  Rental Vehicle Excess Insurance    NaN       172      SINGAPORE   \n",
       "\n",
       "       Net Sales  Commision (in value)  Age Claim  \n",
       "0          216.0                 54.00   57    No  \n",
       "1           10.0                  0.00   33    No  \n",
       "2           22.0                  7.70   26    No  \n",
       "3          112.0                  0.00   59    No  \n",
       "4           16.0                  4.00   28    No  \n",
       "...          ...                   ...  ...   ...  \n",
       "44323       30.0                  0.00   36   Yes  \n",
       "44324       79.2                 47.52   47    No  \n",
       "44325       30.0                 10.50   50    No  \n",
       "44326       36.0                  0.00   36    No  \n",
       "44327        0.0                 17.82   31    No  \n",
       "\n",
       "[44328 rows x 11 columns]"
      ]
     },
     "execution_count": 2,
     "metadata": {},
     "output_type": "execute_result"
    }
   ],
   "source": [
    "df = pd.read_csv('data_travel_insurance.csv')\n",
    "df"
   ]
  },
  {
   "cell_type": "code",
   "execution_count": 3,
   "id": "ecd6161d-ad0a-4095-b115-023f96f596f9",
   "metadata": {},
   "outputs": [
    {
     "data": {
      "text/html": [
       "<div>\n",
       "<style scoped>\n",
       "    .dataframe tbody tr th:only-of-type {\n",
       "        vertical-align: middle;\n",
       "    }\n",
       "\n",
       "    .dataframe tbody tr th {\n",
       "        vertical-align: top;\n",
       "    }\n",
       "\n",
       "    .dataframe thead th {\n",
       "        text-align: right;\n",
       "    }\n",
       "</style>\n",
       "<table border=\"1\" class=\"dataframe\">\n",
       "  <thead>\n",
       "    <tr style=\"text-align: right;\">\n",
       "      <th></th>\n",
       "      <th>Data Features</th>\n",
       "      <th>Data Types</th>\n",
       "      <th>Null</th>\n",
       "      <th>Null Percentage</th>\n",
       "      <th>Unique</th>\n",
       "      <th>Unique Sample</th>\n",
       "    </tr>\n",
       "  </thead>\n",
       "  <tbody>\n",
       "    <tr>\n",
       "      <th>0</th>\n",
       "      <td>Agency</td>\n",
       "      <td>object</td>\n",
       "      <td>0</td>\n",
       "      <td>0.00</td>\n",
       "      <td>16</td>\n",
       "      <td>[LWC, TTW]</td>\n",
       "    </tr>\n",
       "    <tr>\n",
       "      <th>1</th>\n",
       "      <td>Agency Type</td>\n",
       "      <td>object</td>\n",
       "      <td>0</td>\n",
       "      <td>0.00</td>\n",
       "      <td>2</td>\n",
       "      <td>[Airlines, Travel Agency]</td>\n",
       "    </tr>\n",
       "    <tr>\n",
       "      <th>2</th>\n",
       "      <td>Distribution Channel</td>\n",
       "      <td>object</td>\n",
       "      <td>0</td>\n",
       "      <td>0.00</td>\n",
       "      <td>2</td>\n",
       "      <td>[Online, Offline]</td>\n",
       "    </tr>\n",
       "    <tr>\n",
       "      <th>3</th>\n",
       "      <td>Product Name</td>\n",
       "      <td>object</td>\n",
       "      <td>0</td>\n",
       "      <td>0.00</td>\n",
       "      <td>26</td>\n",
       "      <td>[Bronze Plan, Travel Cruise Protect Family]</td>\n",
       "    </tr>\n",
       "    <tr>\n",
       "      <th>4</th>\n",
       "      <td>Gender</td>\n",
       "      <td>object</td>\n",
       "      <td>31647</td>\n",
       "      <td>71.39</td>\n",
       "      <td>2</td>\n",
       "      <td>[F, M]</td>\n",
       "    </tr>\n",
       "    <tr>\n",
       "      <th>5</th>\n",
       "      <td>Duration</td>\n",
       "      <td>int64</td>\n",
       "      <td>0</td>\n",
       "      <td>0.00</td>\n",
       "      <td>437</td>\n",
       "      <td>[4815, 121]</td>\n",
       "    </tr>\n",
       "    <tr>\n",
       "      <th>6</th>\n",
       "      <td>Destination</td>\n",
       "      <td>object</td>\n",
       "      <td>0</td>\n",
       "      <td>0.00</td>\n",
       "      <td>138</td>\n",
       "      <td>[EGYPT, UNITED ARAB EMIRATES]</td>\n",
       "    </tr>\n",
       "    <tr>\n",
       "      <th>7</th>\n",
       "      <td>Net Sales</td>\n",
       "      <td>float64</td>\n",
       "      <td>0</td>\n",
       "      <td>0.00</td>\n",
       "      <td>1006</td>\n",
       "      <td>[8.77, 1.55]</td>\n",
       "    </tr>\n",
       "    <tr>\n",
       "      <th>8</th>\n",
       "      <td>Commision (in value)</td>\n",
       "      <td>float64</td>\n",
       "      <td>0</td>\n",
       "      <td>0.00</td>\n",
       "      <td>915</td>\n",
       "      <td>[10.15, 8.36]</td>\n",
       "    </tr>\n",
       "    <tr>\n",
       "      <th>9</th>\n",
       "      <td>Age</td>\n",
       "      <td>int64</td>\n",
       "      <td>0</td>\n",
       "      <td>0.00</td>\n",
       "      <td>89</td>\n",
       "      <td>[67, 23]</td>\n",
       "    </tr>\n",
       "    <tr>\n",
       "      <th>10</th>\n",
       "      <td>Claim</td>\n",
       "      <td>object</td>\n",
       "      <td>0</td>\n",
       "      <td>0.00</td>\n",
       "      <td>2</td>\n",
       "      <td>[Yes, No]</td>\n",
       "    </tr>\n",
       "  </tbody>\n",
       "</table>\n",
       "</div>"
      ],
      "text/plain": [
       "           Data Features Data Types   Null  Null Percentage  Unique  \\\n",
       "0                 Agency     object      0             0.00      16   \n",
       "1            Agency Type     object      0             0.00       2   \n",
       "2   Distribution Channel     object      0             0.00       2   \n",
       "3           Product Name     object      0             0.00      26   \n",
       "4                 Gender     object  31647            71.39       2   \n",
       "5               Duration      int64      0             0.00     437   \n",
       "6            Destination     object      0             0.00     138   \n",
       "7              Net Sales    float64      0             0.00    1006   \n",
       "8   Commision (in value)    float64      0             0.00     915   \n",
       "9                    Age      int64      0             0.00      89   \n",
       "10                 Claim     object      0             0.00       2   \n",
       "\n",
       "                                  Unique Sample  \n",
       "0                                    [LWC, TTW]  \n",
       "1                     [Airlines, Travel Agency]  \n",
       "2                             [Online, Offline]  \n",
       "3   [Bronze Plan, Travel Cruise Protect Family]  \n",
       "4                                        [F, M]  \n",
       "5                                   [4815, 121]  \n",
       "6                 [EGYPT, UNITED ARAB EMIRATES]  \n",
       "7                                  [8.77, 1.55]  \n",
       "8                                 [10.15, 8.36]  \n",
       "9                                      [67, 23]  \n",
       "10                                    [Yes, No]  "
      ]
     },
     "execution_count": 3,
     "metadata": {},
     "output_type": "execute_result"
    }
   ],
   "source": [
    "travelDesc = []\n",
    "for i in df.columns:\n",
    "    travelDesc.append([\n",
    "        i,\n",
    "        df[i].dtypes,\n",
    "        df[i].isna().sum(),\n",
    "        round(((df[i].isna().sum() / len(df)) * 100), 2),\n",
    "        df[i].nunique(),\n",
    "        df[i].drop_duplicates().sample(2).values\n",
    "    ])\n",
    "\n",
    "pd.DataFrame(travelDesc, columns=[\n",
    "    \"Data Features\",\n",
    "    \"Data Types\",\n",
    "    \"Null\",\n",
    "    \"Null Percentage\",\n",
    "    \"Unique\",\n",
    "    \"Unique Sample\"\n",
    "])"
   ]
  },
  {
   "cell_type": "markdown",
   "id": "3e789e1f-5504-4bd3-b15b-a6009335037c",
   "metadata": {},
   "source": [
    "# Target Distribution Check"
   ]
  },
  {
   "cell_type": "code",
   "execution_count": 105,
   "id": "654facdc-2316-4a34-b2e5-d13309cf0f28",
   "metadata": {},
   "outputs": [
    {
     "data": {
      "text/plain": [
       "0    43602\n",
       "1      677\n",
       "Name: Claim, dtype: int64"
      ]
     },
     "execution_count": 105,
     "metadata": {},
     "output_type": "execute_result"
    }
   ],
   "source": [
    "df.Claim.value_counts()"
   ]
  },
  {
   "cell_type": "markdown",
   "id": "860022a5-b689-4f49-8e5e-e9f3fbd87b2c",
   "metadata": {},
   "source": [
    "# Check Missing Value"
   ]
  },
  {
   "cell_type": "code",
   "execution_count": 4,
   "id": "0e60e683-1554-41a9-b557-a12b76ea5592",
   "metadata": {},
   "outputs": [
    {
     "data": {
      "text/plain": [
       "Agency                      0\n",
       "Agency Type                 0\n",
       "Distribution Channel        0\n",
       "Product Name                0\n",
       "Gender                  31647\n",
       "Duration                    0\n",
       "Destination                 0\n",
       "Net Sales                   0\n",
       "Commision (in value)        0\n",
       "Age                         0\n",
       "Claim                       0\n",
       "dtype: int64"
      ]
     },
     "execution_count": 4,
     "metadata": {},
     "output_type": "execute_result"
    }
   ],
   "source": [
    "df.isna().sum()"
   ]
  },
  {
   "cell_type": "code",
   "execution_count": 5,
   "id": "493b8ad6-ecf3-419e-a20c-88bcc99a1baf",
   "metadata": {},
   "outputs": [
    {
     "data": {
      "image/png": "[encoded data removed]",
      "text/plain": [
       "<Figure size 864x576 with 1 Axes>"
      ]
     },
     "metadata": {
      "needs_background": "light"
     },
     "output_type": "display_data"
    }
   ],
   "source": [
    "plt.figure(figsize=(12,8))\n",
    "sns.heatmap(df.isna(),cmap='viridis', yticklabels=False, cbar=False)\n",
    "plt.show()"
   ]
  },
  {
   "cell_type": "code",
   "execution_count": 81,
   "id": "1770c28d-fa5c-4e72-a2a8-2eb0b200780d",
   "metadata": {},
   "outputs": [
    {
     "data": {
      "text/html": [
       "<div>\n",
       "<style scoped>\n",
       "    .dataframe tbody tr th:only-of-type {\n",
       "        vertical-align: middle;\n",
       "    }\n",
       "\n",
       "    .dataframe tbody tr th {\n",
       "        vertical-align: top;\n",
       "    }\n",
       "\n",
       "    .dataframe thead th {\n",
       "        text-align: right;\n",
       "    }\n",
       "</style>\n",
       "<table border=\"1\" class=\"dataframe\">\n",
       "  <thead>\n",
       "    <tr style=\"text-align: right;\">\n",
       "      <th></th>\n",
       "      <th>Duration</th>\n",
       "      <th>Net Sales</th>\n",
       "      <th>Commision (in value)</th>\n",
       "      <th>Age</th>\n",
       "      <th>Claim</th>\n",
       "    </tr>\n",
       "  </thead>\n",
       "  <tbody>\n",
       "    <tr>\n",
       "      <th>count</th>\n",
       "      <td>44328.000000</td>\n",
       "      <td>44328.000000</td>\n",
       "      <td>44328.000000</td>\n",
       "      <td>44328.000000</td>\n",
       "      <td>44328.000000</td>\n",
       "    </tr>\n",
       "    <tr>\n",
       "      <th>mean</th>\n",
       "      <td>49.424292</td>\n",
       "      <td>40.550948</td>\n",
       "      <td>9.707692</td>\n",
       "      <td>39.925600</td>\n",
       "      <td>0.015273</td>\n",
       "    </tr>\n",
       "    <tr>\n",
       "      <th>std</th>\n",
       "      <td>109.153961</td>\n",
       "      <td>48.661970</td>\n",
       "      <td>19.625637</td>\n",
       "      <td>13.954926</td>\n",
       "      <td>0.122636</td>\n",
       "    </tr>\n",
       "    <tr>\n",
       "      <th>min</th>\n",
       "      <td>-1.000000</td>\n",
       "      <td>-357.500000</td>\n",
       "      <td>0.000000</td>\n",
       "      <td>0.000000</td>\n",
       "      <td>0.000000</td>\n",
       "    </tr>\n",
       "    <tr>\n",
       "      <th>25%</th>\n",
       "      <td>9.000000</td>\n",
       "      <td>18.000000</td>\n",
       "      <td>0.000000</td>\n",
       "      <td>35.000000</td>\n",
       "      <td>0.000000</td>\n",
       "    </tr>\n",
       "    <tr>\n",
       "      <th>50%</th>\n",
       "      <td>22.000000</td>\n",
       "      <td>26.500000</td>\n",
       "      <td>0.000000</td>\n",
       "      <td>36.000000</td>\n",
       "      <td>0.000000</td>\n",
       "    </tr>\n",
       "    <tr>\n",
       "      <th>75%</th>\n",
       "      <td>53.000000</td>\n",
       "      <td>48.000000</td>\n",
       "      <td>11.550000</td>\n",
       "      <td>43.000000</td>\n",
       "      <td>0.000000</td>\n",
       "    </tr>\n",
       "    <tr>\n",
       "      <th>max</th>\n",
       "      <td>4881.000000</td>\n",
       "      <td>810.000000</td>\n",
       "      <td>283.500000</td>\n",
       "      <td>118.000000</td>\n",
       "      <td>1.000000</td>\n",
       "    </tr>\n",
       "  </tbody>\n",
       "</table>\n",
       "</div>"
      ],
      "text/plain": [
       "           Duration     Net Sales  Commision (in value)           Age  \\\n",
       "count  44328.000000  44328.000000          44328.000000  44328.000000   \n",
       "mean      49.424292     40.550948              9.707692     39.925600   \n",
       "std      109.153961     48.661970             19.625637     13.954926   \n",
       "min       -1.000000   -357.500000              0.000000      0.000000   \n",
       "25%        9.000000     18.000000              0.000000     35.000000   \n",
       "50%       22.000000     26.500000              0.000000     36.000000   \n",
       "75%       53.000000     48.000000             11.550000     43.000000   \n",
       "max     4881.000000    810.000000            283.500000    118.000000   \n",
       "\n",
       "              Claim  \n",
       "count  44328.000000  \n",
       "mean       0.015273  \n",
       "std        0.122636  \n",
       "min        0.000000  \n",
       "25%        0.000000  \n",
       "50%        0.000000  \n",
       "75%        0.000000  \n",
       "max        1.000000  "
      ]
     },
     "execution_count": 81,
     "metadata": {},
     "output_type": "execute_result"
    }
   ],
   "source": [
    "df.describe()"
   ]
  },
  {
   "cell_type": "code",
   "execution_count": 82,
   "id": "da5401cb-fe2b-405b-9185-31ef41ea33b4",
   "metadata": {},
   "outputs": [],
   "source": [
    "df = df[df.Duration > 0]"
   ]
  },
  {
   "cell_type": "markdown",
   "id": "5a44f72e-64fa-4364-9b44-55143dd161cc",
   "metadata": {
    "tags": []
   },
   "source": [
    "# QUICK EDA FOR FEATURE SELECTION"
   ]
  },
  {
   "cell_type": "markdown",
   "id": "c1a9a1a1-db03-4334-8161-82a3e30e3460",
   "metadata": {},
   "source": [
    "### Hipotesa Awal :\n",
    "\n",
    "- Agency Type Berpengaruh terhadap Claim\n",
    "- Duration Berpengaruh terhadap Claim\n",
    "- Net Sales berpengaruh terhadap Claim\n",
    "- Commision (In Value) Berpengaruh terhadap Claim"
   ]
  },
  {
   "cell_type": "code",
   "execution_count": 54,
   "id": "8cc1a45a-e06b-4a4c-9318-36d25f8a2f7e",
   "metadata": {},
   "outputs": [],
   "source": [
    "df['Claim'] = df['Claim'].map({'Yes':1, 'No':0})"
   ]
  },
  {
   "cell_type": "markdown",
   "id": "2235e19e-f820-42fe-892b-b5be5e418aff",
   "metadata": {},
   "source": [
    "# Agency Type Check"
   ]
  },
  {
   "cell_type": "code",
   "execution_count": 58,
   "id": "3f9621db-1a81-46e4-b144-d51df60d9a68",
   "metadata": {},
   "outputs": [
    {
     "data": {
      "text/html": [
       "<div>\n",
       "<style scoped>\n",
       "    .dataframe tbody tr th:only-of-type {\n",
       "        vertical-align: middle;\n",
       "    }\n",
       "\n",
       "    .dataframe tbody tr th {\n",
       "        vertical-align: top;\n",
       "    }\n",
       "\n",
       "    .dataframe thead th {\n",
       "        text-align: right;\n",
       "    }\n",
       "</style>\n",
       "<table border=\"1\" class=\"dataframe\">\n",
       "  <thead>\n",
       "    <tr style=\"text-align: right;\">\n",
       "      <th></th>\n",
       "      <th>Claim</th>\n",
       "    </tr>\n",
       "    <tr>\n",
       "      <th>Agency Type</th>\n",
       "      <th></th>\n",
       "    </tr>\n",
       "  </thead>\n",
       "  <tbody>\n",
       "    <tr>\n",
       "      <th>Airlines</th>\n",
       "      <td>12215</td>\n",
       "    </tr>\n",
       "    <tr>\n",
       "      <th>Travel Agency</th>\n",
       "      <td>32113</td>\n",
       "    </tr>\n",
       "  </tbody>\n",
       "</table>\n",
       "</div>"
      ],
      "text/plain": [
       "               Claim\n",
       "Agency Type         \n",
       "Airlines       12215\n",
       "Travel Agency  32113"
      ]
     },
     "execution_count": 58,
     "metadata": {},
     "output_type": "execute_result"
    }
   ],
   "source": [
    "df[['Agency Type','Claim']].groupby(['Agency Type']).count()"
   ]
  },
  {
   "cell_type": "code",
   "execution_count": 59,
   "id": "d765337b-b0b4-4d73-9bc2-9c312040fdfa",
   "metadata": {},
   "outputs": [
    {
     "data": {
      "text/html": [
       "<div>\n",
       "<style scoped>\n",
       "    .dataframe tbody tr th:only-of-type {\n",
       "        vertical-align: middle;\n",
       "    }\n",
       "\n",
       "    .dataframe tbody tr th {\n",
       "        vertical-align: top;\n",
       "    }\n",
       "\n",
       "    .dataframe thead th {\n",
       "        text-align: right;\n",
       "    }\n",
       "</style>\n",
       "<table border=\"1\" class=\"dataframe\">\n",
       "  <thead>\n",
       "    <tr style=\"text-align: right;\">\n",
       "      <th></th>\n",
       "      <th>Claim</th>\n",
       "    </tr>\n",
       "    <tr>\n",
       "      <th>Agency Type</th>\n",
       "      <th></th>\n",
       "    </tr>\n",
       "  </thead>\n",
       "  <tbody>\n",
       "    <tr>\n",
       "      <th>Airlines</th>\n",
       "      <td>3.593942</td>\n",
       "    </tr>\n",
       "    <tr>\n",
       "      <th>Travel Agency</th>\n",
       "      <td>0.741133</td>\n",
       "    </tr>\n",
       "  </tbody>\n",
       "</table>\n",
       "</div>"
      ],
      "text/plain": [
       "                  Claim\n",
       "Agency Type            \n",
       "Airlines       3.593942\n",
       "Travel Agency  0.741133"
      ]
     },
     "execution_count": 59,
     "metadata": {},
     "output_type": "execute_result"
    }
   ],
   "source": [
    "(df[['Agency Type','Claim']].groupby(['Agency Type']).mean()*100)"
   ]
  },
  {
   "cell_type": "markdown",
   "id": "79e6c474-fbd5-4806-8344-67e80c57a474",
   "metadata": {},
   "source": [
    "- Agency Type : Airlines Memiliki Claim Rate Sebesar 3.6 % atau dengan kata lain sebanyak 96.4 % passanger tidak melakukan claim\n",
    "- Agency memiliki pengaruh terhadap Claim Rate"
   ]
  },
  {
   "cell_type": "markdown",
   "id": "5a44790d-b6d1-411e-9b7a-10d4a00f49f4",
   "metadata": {},
   "source": [
    "# Duration Check"
   ]
  },
  {
   "cell_type": "code",
   "execution_count": 87,
   "id": "03165d24-ae3d-4977-8e99-6d7952f4dc6c",
   "metadata": {},
   "outputs": [],
   "source": [
    "Duration_bin = [0, 60, 120, df['Duration'].max()] ## Membuat Kelompok Durasi"
   ]
  },
  {
   "cell_type": "code",
   "execution_count": 88,
   "id": "65d81f5a-f94f-41ba-8abb-f35f39aa0b30",
   "metadata": {},
   "outputs": [],
   "source": [
    "Labels = ['Low', 'Medium', 'High'] ## Label untuk kelompok Durasi"
   ]
  },
  {
   "cell_type": "code",
   "execution_count": 91,
   "id": "c21e1608-a826-47be-9ce0-015f13b4917d",
   "metadata": {},
   "outputs": [],
   "source": [
    "df['Duration_bin'] = pd.cut(df['Duration'], bins = Duration_bin, labels = Labels)"
   ]
  },
  {
   "cell_type": "code",
   "execution_count": 95,
   "id": "140d6899-d5f8-4e28-9577-eb0d2708aa7b",
   "metadata": {},
   "outputs": [
    {
     "data": {
      "text/html": [
       "<div>\n",
       "<style scoped>\n",
       "    .dataframe tbody tr th:only-of-type {\n",
       "        vertical-align: middle;\n",
       "    }\n",
       "\n",
       "    .dataframe tbody tr th {\n",
       "        vertical-align: top;\n",
       "    }\n",
       "\n",
       "    .dataframe thead th {\n",
       "        text-align: right;\n",
       "    }\n",
       "</style>\n",
       "<table border=\"1\" class=\"dataframe\">\n",
       "  <thead>\n",
       "    <tr style=\"text-align: right;\">\n",
       "      <th></th>\n",
       "      <th>Claim</th>\n",
       "    </tr>\n",
       "    <tr>\n",
       "      <th>Duration_bin</th>\n",
       "      <th></th>\n",
       "    </tr>\n",
       "  </thead>\n",
       "  <tbody>\n",
       "    <tr>\n",
       "      <th>High</th>\n",
       "      <td>4.115655</td>\n",
       "    </tr>\n",
       "    <tr>\n",
       "      <th>Medium</th>\n",
       "      <td>1.533101</td>\n",
       "    </tr>\n",
       "    <tr>\n",
       "      <th>Low</th>\n",
       "      <td>1.242075</td>\n",
       "    </tr>\n",
       "  </tbody>\n",
       "</table>\n",
       "</div>"
      ],
      "text/plain": [
       "                 Claim\n",
       "Duration_bin          \n",
       "High          4.115655\n",
       "Medium        1.533101\n",
       "Low           1.242075"
      ]
     },
     "execution_count": 95,
     "metadata": {},
     "output_type": "execute_result"
    }
   ],
   "source": [
    "(df[['Duration_bin','Claim']].groupby(['Duration_bin']).mean()*100).sort_values('Claim', ascending=False)"
   ]
  },
  {
   "cell_type": "code",
   "execution_count": 98,
   "id": "5b30879d-7339-400f-8d2b-69678774f150",
   "metadata": {},
   "outputs": [
    {
     "data": {
      "text/html": [
       "<div>\n",
       "<style scoped>\n",
       "    .dataframe tbody tr th:only-of-type {\n",
       "        vertical-align: middle;\n",
       "    }\n",
       "\n",
       "    .dataframe tbody tr th {\n",
       "        vertical-align: top;\n",
       "    }\n",
       "\n",
       "    .dataframe thead th {\n",
       "        text-align: right;\n",
       "    }\n",
       "</style>\n",
       "<table border=\"1\" class=\"dataframe\">\n",
       "  <thead>\n",
       "    <tr style=\"text-align: right;\">\n",
       "      <th></th>\n",
       "      <th>Claim</th>\n",
       "    </tr>\n",
       "    <tr>\n",
       "      <th>Duration_bin</th>\n",
       "      <th></th>\n",
       "    </tr>\n",
       "  </thead>\n",
       "  <tbody>\n",
       "    <tr>\n",
       "      <th>Low</th>\n",
       "      <td>34700</td>\n",
       "    </tr>\n",
       "    <tr>\n",
       "      <th>Medium</th>\n",
       "      <td>5740</td>\n",
       "    </tr>\n",
       "    <tr>\n",
       "      <th>High</th>\n",
       "      <td>3839</td>\n",
       "    </tr>\n",
       "  </tbody>\n",
       "</table>\n",
       "</div>"
      ],
      "text/plain": [
       "              Claim\n",
       "Duration_bin       \n",
       "Low           34700\n",
       "Medium         5740\n",
       "High           3839"
      ]
     },
     "execution_count": 98,
     "metadata": {},
     "output_type": "execute_result"
    }
   ],
   "source": [
    "df[['Duration_bin','Claim']].groupby(['Duration_bin']).count()"
   ]
  },
  {
   "cell_type": "code",
   "execution_count": 61,
   "id": "1736987a-7ae5-49f8-a593-f46111703741",
   "metadata": {},
   "outputs": [
    {
     "data": {
      "text/html": [
       "<div>\n",
       "<style scoped>\n",
       "    .dataframe tbody tr th:only-of-type {\n",
       "        vertical-align: middle;\n",
       "    }\n",
       "\n",
       "    .dataframe tbody tr th {\n",
       "        vertical-align: top;\n",
       "    }\n",
       "\n",
       "    .dataframe thead th {\n",
       "        text-align: right;\n",
       "    }\n",
       "</style>\n",
       "<table border=\"1\" class=\"dataframe\">\n",
       "  <thead>\n",
       "    <tr style=\"text-align: right;\">\n",
       "      <th></th>\n",
       "      <th>Claim</th>\n",
       "    </tr>\n",
       "    <tr>\n",
       "      <th>Duration</th>\n",
       "      <th></th>\n",
       "    </tr>\n",
       "  </thead>\n",
       "  <tbody>\n",
       "    <tr>\n",
       "      <th>-1</th>\n",
       "      <td>0.000000</td>\n",
       "    </tr>\n",
       "    <tr>\n",
       "      <th>0</th>\n",
       "      <td>0.000000</td>\n",
       "    </tr>\n",
       "    <tr>\n",
       "      <th>1</th>\n",
       "      <td>0.000000</td>\n",
       "    </tr>\n",
       "    <tr>\n",
       "      <th>2</th>\n",
       "      <td>0.469484</td>\n",
       "    </tr>\n",
       "    <tr>\n",
       "      <th>3</th>\n",
       "      <td>0.909843</td>\n",
       "    </tr>\n",
       "    <tr>\n",
       "      <th>...</th>\n",
       "      <td>...</td>\n",
       "    </tr>\n",
       "    <tr>\n",
       "      <th>4831</th>\n",
       "      <td>0.000000</td>\n",
       "    </tr>\n",
       "    <tr>\n",
       "      <th>4844</th>\n",
       "      <td>0.000000</td>\n",
       "    </tr>\n",
       "    <tr>\n",
       "      <th>4847</th>\n",
       "      <td>0.000000</td>\n",
       "    </tr>\n",
       "    <tr>\n",
       "      <th>4857</th>\n",
       "      <td>0.000000</td>\n",
       "    </tr>\n",
       "    <tr>\n",
       "      <th>4881</th>\n",
       "      <td>0.000000</td>\n",
       "    </tr>\n",
       "  </tbody>\n",
       "</table>\n",
       "<p>437 rows × 1 columns</p>\n",
       "</div>"
      ],
      "text/plain": [
       "             Claim\n",
       "Duration          \n",
       "-1        0.000000\n",
       " 0        0.000000\n",
       " 1        0.000000\n",
       " 2        0.469484\n",
       " 3        0.909843\n",
       "...            ...\n",
       " 4831     0.000000\n",
       " 4844     0.000000\n",
       " 4847     0.000000\n",
       " 4857     0.000000\n",
       " 4881     0.000000\n",
       "\n",
       "[437 rows x 1 columns]"
      ]
     },
     "execution_count": 61,
     "metadata": {},
     "output_type": "execute_result"
    }
   ],
   "source": [
    "(df[['Duration','Claim']].groupby(['Duration']).mean()*100)"
   ]
  },
  {
   "cell_type": "markdown",
   "id": "36afa260-5591-4cf2-a950-c7bc3bf79787",
   "metadata": {
    "tags": []
   },
   "source": [
    "# NET SALES Check"
   ]
  },
  {
   "cell_type": "code",
   "execution_count": 99,
   "id": "c5234fd3-d212-46db-b05b-bc2cce9afcca",
   "metadata": {},
   "outputs": [],
   "source": [
    "Sales_bin = [df['Net Sales'].min(),0, df['Net Sales'].max()] "
   ]
  },
  {
   "cell_type": "code",
   "execution_count": 100,
   "id": "76d62f80-2d6e-401b-9a90-7eb65e29a407",
   "metadata": {},
   "outputs": [],
   "source": [
    "Labels = ['Negatif', 'Positif'] ## Label untuk kelompok NET SALES"
   ]
  },
  {
   "cell_type": "code",
   "execution_count": 101,
   "id": "f1adf9bf-7f37-424c-911d-90432778a8f7",
   "metadata": {},
   "outputs": [],
   "source": [
    "df['Sales_bin'] = pd.cut(df['Net Sales'], bins = Sales_bin, labels = Labels)"
   ]
  },
  {
   "cell_type": "code",
   "execution_count": 103,
   "id": "dfaca23a-4e42-4b4d-bcb8-b5e1631e9eb1",
   "metadata": {},
   "outputs": [
    {
     "data": {
      "text/html": [
       "<div>\n",
       "<style scoped>\n",
       "    .dataframe tbody tr th:only-of-type {\n",
       "        vertical-align: middle;\n",
       "    }\n",
       "\n",
       "    .dataframe tbody tr th {\n",
       "        vertical-align: top;\n",
       "    }\n",
       "\n",
       "    .dataframe thead th {\n",
       "        text-align: right;\n",
       "    }\n",
       "</style>\n",
       "<table border=\"1\" class=\"dataframe\">\n",
       "  <thead>\n",
       "    <tr style=\"text-align: right;\">\n",
       "      <th></th>\n",
       "      <th>Claim</th>\n",
       "    </tr>\n",
       "    <tr>\n",
       "      <th>Sales_bin</th>\n",
       "      <th></th>\n",
       "    </tr>\n",
       "  </thead>\n",
       "  <tbody>\n",
       "    <tr>\n",
       "      <th>Positif</th>\n",
       "      <td>1.592716</td>\n",
       "    </tr>\n",
       "    <tr>\n",
       "      <th>Negatif</th>\n",
       "      <td>0.000000</td>\n",
       "    </tr>\n",
       "  </tbody>\n",
       "</table>\n",
       "</div>"
      ],
      "text/plain": [
       "              Claim\n",
       "Sales_bin          \n",
       "Positif    1.592716\n",
       "Negatif    0.000000"
      ]
     },
     "execution_count": 103,
     "metadata": {},
     "output_type": "execute_result"
    }
   ],
   "source": [
    "(df[['Sales_bin','Claim']].groupby(['Sales_bin']).mean()*100).sort_values('Claim', ascending=False)"
   ]
  },
  {
   "cell_type": "markdown",
   "id": "7cd97364-09d8-40ac-ac0f-3969c7ddc3db",
   "metadata": {},
   "source": [
    "- Rata rata dari Net Sales claim rate Positif adalah  1.5% dengan kata lain sebanyak 98.5 % orang tidak melakukan claim \n",
    "- Net Sales memiliki pengaruh terhadap Claim Rate"
   ]
  },
  {
   "cell_type": "markdown",
   "id": "269ebf62-d628-48e1-b7e3-0823dcb29268",
   "metadata": {},
   "source": [
    "# Commision (In Value) Check"
   ]
  },
  {
   "cell_type": "code",
   "execution_count": 75,
   "id": "d22ef740-2738-4ccb-8c3b-2f91cb5d0b0e",
   "metadata": {},
   "outputs": [
    {
     "data": {
      "text/html": [
       "<div>\n",
       "<style scoped>\n",
       "    .dataframe tbody tr th:only-of-type {\n",
       "        vertical-align: middle;\n",
       "    }\n",
       "\n",
       "    .dataframe tbody tr th {\n",
       "        vertical-align: top;\n",
       "    }\n",
       "\n",
       "    .dataframe thead th {\n",
       "        text-align: right;\n",
       "    }\n",
       "</style>\n",
       "<table border=\"1\" class=\"dataframe\">\n",
       "  <thead>\n",
       "    <tr style=\"text-align: right;\">\n",
       "      <th></th>\n",
       "      <th>Claim</th>\n",
       "    </tr>\n",
       "    <tr>\n",
       "      <th>Commision (in value)</th>\n",
       "      <th></th>\n",
       "    </tr>\n",
       "  </thead>\n",
       "  <tbody>\n",
       "    <tr>\n",
       "      <th>0.00</th>\n",
       "      <td>24725</td>\n",
       "    </tr>\n",
       "    <tr>\n",
       "      <th>0.02</th>\n",
       "      <td>8</td>\n",
       "    </tr>\n",
       "    <tr>\n",
       "      <th>0.04</th>\n",
       "      <td>1</td>\n",
       "    </tr>\n",
       "    <tr>\n",
       "      <th>0.05</th>\n",
       "      <td>13</td>\n",
       "    </tr>\n",
       "    <tr>\n",
       "      <th>0.09</th>\n",
       "      <td>12</td>\n",
       "    </tr>\n",
       "    <tr>\n",
       "      <th>...</th>\n",
       "      <td>...</td>\n",
       "    </tr>\n",
       "    <tr>\n",
       "      <th>208.16</th>\n",
       "      <td>3</td>\n",
       "    </tr>\n",
       "    <tr>\n",
       "      <th>209.95</th>\n",
       "      <td>2</td>\n",
       "    </tr>\n",
       "    <tr>\n",
       "      <th>210.21</th>\n",
       "      <td>24</td>\n",
       "    </tr>\n",
       "    <tr>\n",
       "      <th>262.76</th>\n",
       "      <td>6</td>\n",
       "    </tr>\n",
       "    <tr>\n",
       "      <th>283.50</th>\n",
       "      <td>1</td>\n",
       "    </tr>\n",
       "  </tbody>\n",
       "</table>\n",
       "<p>915 rows × 1 columns</p>\n",
       "</div>"
      ],
      "text/plain": [
       "                      Claim\n",
       "Commision (in value)       \n",
       "0.00                  24725\n",
       "0.02                      8\n",
       "0.04                      1\n",
       "0.05                     13\n",
       "0.09                     12\n",
       "...                     ...\n",
       "208.16                    3\n",
       "209.95                    2\n",
       "210.21                   24\n",
       "262.76                    6\n",
       "283.50                    1\n",
       "\n",
       "[915 rows x 1 columns]"
      ]
     },
     "execution_count": 75,
     "metadata": {},
     "output_type": "execute_result"
    }
   ],
   "source": [
    "df[['Commision (in value)','Claim']].groupby(['Commision (in value)']).count()"
   ]
  },
  {
   "cell_type": "code",
   "execution_count": 78,
   "id": "63c7a902-1257-4523-89f3-955f4ff1b6b3",
   "metadata": {},
   "outputs": [
    {
     "data": {
      "text/html": [
       "<div>\n",
       "<style scoped>\n",
       "    .dataframe tbody tr th:only-of-type {\n",
       "        vertical-align: middle;\n",
       "    }\n",
       "\n",
       "    .dataframe tbody tr th {\n",
       "        vertical-align: top;\n",
       "    }\n",
       "\n",
       "    .dataframe thead th {\n",
       "        text-align: right;\n",
       "    }\n",
       "</style>\n",
       "<table border=\"1\" class=\"dataframe\">\n",
       "  <thead>\n",
       "    <tr style=\"text-align: right;\">\n",
       "      <th></th>\n",
       "      <th>Claim</th>\n",
       "    </tr>\n",
       "    <tr>\n",
       "      <th>Commision (in value)</th>\n",
       "      <th></th>\n",
       "    </tr>\n",
       "  </thead>\n",
       "  <tbody>\n",
       "    <tr>\n",
       "      <th>283.50</th>\n",
       "      <td>0.000000</td>\n",
       "    </tr>\n",
       "    <tr>\n",
       "      <th>262.76</th>\n",
       "      <td>0.000000</td>\n",
       "    </tr>\n",
       "    <tr>\n",
       "      <th>210.21</th>\n",
       "      <td>8.333333</td>\n",
       "    </tr>\n",
       "    <tr>\n",
       "      <th>209.95</th>\n",
       "      <td>0.000000</td>\n",
       "    </tr>\n",
       "    <tr>\n",
       "      <th>208.16</th>\n",
       "      <td>0.000000</td>\n",
       "    </tr>\n",
       "    <tr>\n",
       "      <th>...</th>\n",
       "      <td>...</td>\n",
       "    </tr>\n",
       "    <tr>\n",
       "      <th>0.09</th>\n",
       "      <td>0.000000</td>\n",
       "    </tr>\n",
       "    <tr>\n",
       "      <th>0.05</th>\n",
       "      <td>0.000000</td>\n",
       "    </tr>\n",
       "    <tr>\n",
       "      <th>0.04</th>\n",
       "      <td>0.000000</td>\n",
       "    </tr>\n",
       "    <tr>\n",
       "      <th>0.02</th>\n",
       "      <td>0.000000</td>\n",
       "    </tr>\n",
       "    <tr>\n",
       "      <th>0.00</th>\n",
       "      <td>0.541962</td>\n",
       "    </tr>\n",
       "  </tbody>\n",
       "</table>\n",
       "<p>915 rows × 1 columns</p>\n",
       "</div>"
      ],
      "text/plain": [
       "                         Claim\n",
       "Commision (in value)          \n",
       "283.50                0.000000\n",
       "262.76                0.000000\n",
       "210.21                8.333333\n",
       "209.95                0.000000\n",
       "208.16                0.000000\n",
       "...                        ...\n",
       "0.09                  0.000000\n",
       "0.05                  0.000000\n",
       "0.04                  0.000000\n",
       "0.02                  0.000000\n",
       "0.00                  0.541962\n",
       "\n",
       "[915 rows x 1 columns]"
      ]
     },
     "execution_count": 78,
     "metadata": {},
     "output_type": "execute_result"
    }
   ],
   "source": [
    "(df[['Commision (in value)','Claim']].groupby(['Commision (in value)']).mean()*100).sort_values('Commision (in value)', ascending=False)"
   ]
  },
  {
   "cell_type": "markdown",
   "id": "d1b8ca29-69c6-4e57-b833-7d017aceee57",
   "metadata": {},
   "source": [
    "- Commision (in value) berpengaruh terhadap Claim Rates - Paling tinggi Claim Rates nya  210.21 ==> 8.3%"
   ]
  },
  {
   "cell_type": "markdown",
   "id": "76ccfdca-eb0d-408a-97ed-db11e1603a36",
   "metadata": {},
   "source": [
    "# Correlation matrix"
   ]
  },
  {
   "cell_type": "code",
   "execution_count": 79,
   "id": "d0eec4b3-91a6-467e-95d5-7923c1809247",
   "metadata": {},
   "outputs": [
    {
     "data": {
      "image/png": "[encoded data removed]",
      "text/plain": [
       "<Figure size 1080x1008 with 2 Axes>"
      ]
     },
     "metadata": {
      "needs_background": "light"
     },
     "output_type": "display_data"
    }
   ],
   "source": [
    "plt.figure(figsize=(15, 14))\n",
    "palette=sns.diverging_palette(20, 220, n=256)\n",
    "corr = df.corr(method='pearson')\n",
    "sns.heatmap(corr, annot=True, fmt='.2f', cmap=palette, square=True, linewidths=.5)\n",
    "plt.title('Correlation Matrix', size=15, weight='bold');"
   ]
  },
  {
   "cell_type": "markdown",
   "id": "e2e24264-f8b1-491d-9151-a6bc3f1733f8",
   "metadata": {},
   "source": [
    "Dari hasil korelasi matrix menunjukan tidak ada fitur yang korelasi tinggi, tetapi dapat dilihat bahwa ada beberapa fitur yang memiliki korelasi positif dan negaitf, yaitu :\n",
    "\n",
    "Korelasi Positif (+) :\n",
    "- Duration\n",
    "- Net Sales\n",
    "- Commision (in value)             \n",
    "\n",
    "Korelasi Negatif (-)\n",
    "- Age\n",
    "\n",
    "Korelasi matrix digunakan untuk melihat hubungan antar kolom yang bertipe numerik, disini saya menggunakan pearson correlation dikarenakan saya ingin melihat linear correlation dimana pearson correlation sangat cocok digunakan untuk mencari hubungan linear correlation."
   ]
  },
  {
   "cell_type": "markdown",
   "id": "99db7a98",
   "metadata": {
    "tags": []
   },
   "source": [
    "# PIPELINE (PREPROCESSING)"
   ]
  },
  {
   "cell_type": "markdown",
   "id": "07f1690b-b9dc-4475-af3c-c60c296bcd0e",
   "metadata": {},
   "source": [
    "# DATA EXPLORATION"
   ]
  },
  {
   "cell_type": "code",
   "execution_count": 7,
   "id": "88662591-46e7-4d25-8985-904f7eabe586",
   "metadata": {},
   "outputs": [
    {
     "name": "stdout",
     "output_type": "stream",
     "text": [
      "<class 'pandas.core.frame.DataFrame'>\n",
      "RangeIndex: 44328 entries, 0 to 44327\n",
      "Data columns (total 11 columns):\n",
      " #   Column                Non-Null Count  Dtype  \n",
      "---  ------                --------------  -----  \n",
      " 0   Agency                44328 non-null  object \n",
      " 1   Agency Type           44328 non-null  object \n",
      " 2   Distribution Channel  44328 non-null  object \n",
      " 3   Product Name          44328 non-null  object \n",
      " 4   Gender                12681 non-null  object \n",
      " 5   Duration              44328 non-null  int64  \n",
      " 6   Destination           44328 non-null  object \n",
      " 7   Net Sales             44328 non-null  float64\n",
      " 8   Commision (in value)  44328 non-null  float64\n",
      " 9   Age                   44328 non-null  int64  \n",
      " 10  Claim                 44328 non-null  object \n",
      "dtypes: float64(2), int64(2), object(7)\n",
      "memory usage: 3.7+ MB\n"
     ]
    }
   ],
   "source": [
    "df.info()"
   ]
  },
  {
   "cell_type": "code",
   "execution_count": 6,
   "id": "5358c94b-ee55-47d3-a219-2d2178ca1946",
   "metadata": {},
   "outputs": [],
   "source": [
    "X = df.drop(columns=['Claim','Agency','Product Name', 'Destination','Gender'])\n",
    "y = df['Claim'] "
   ]
  },
  {
   "cell_type": "markdown",
   "id": "d89fde8d-4454-4a99-9097-22d998de51de",
   "metadata": {},
   "source": [
    "# Feature Selection\n",
    "Berikut ini merupakan kolom - kolom yang saya gunakan sebagai feature untuk training model machine learning :\n",
    "    \n",
    "    - Agency Type\n",
    "    - Distribution Channel\n",
    "    - Duration\n",
    "    - Net Sales \n",
    "    - Comission (in value) \n",
    "    - Age\n",
    "\n",
    "Berikut Kolom- Kolom yang tidak saya gunakan ketika menggunakan training :\n",
    "    \n",
    "    - Agency\n",
    "    - Product Name\n",
    "    - Destination\n",
    "    - Gender\n",
    "    \n",
    "Alasan saya tidak menggunakan kolom tersebut karena beberapa kolom memiliki fungsi yang sama dengan kolom lain seperti agency memiliki fungsi yang sama seperti agency type. Kolom Gender tidak digunakan karena memiliki missing value diatas 70 % dari total data. Sedangkan kolom lain saya drop berdasarkan domain knowledge (Destinaation, Product Name)\n",
    "\n",
    "Kolom **Claim** digunakan sebagai Target yang nanti digunakan dalam Machine Learning"
   ]
  },
  {
   "cell_type": "markdown",
   "id": "62c7347f-153c-4517-bfe0-2fc607e076da",
   "metadata": {},
   "source": [
    "# DATA SET SPLITTING"
   ]
  },
  {
   "cell_type": "code",
   "execution_count": null,
   "id": "edee9b82",
   "metadata": {},
   "outputs": [],
   "source": [
    "X_train, X_test, y_train, y_test = train_test_split(X,y, stratify = y, test_size = .20, random_state = 42)"
   ]
  },
  {
   "cell_type": "code",
   "execution_count": 9,
   "id": "904449bc",
   "metadata": {},
   "outputs": [
    {
     "name": "stdout",
     "output_type": "stream",
     "text": [
      "<class 'pandas.core.frame.DataFrame'>\n",
      "Int64Index: 35462 entries, 11041 to 33657\n",
      "Data columns (total 6 columns):\n",
      " #   Column                Non-Null Count  Dtype  \n",
      "---  ------                --------------  -----  \n",
      " 0   Agency Type           35462 non-null  object \n",
      " 1   Distribution Channel  35462 non-null  object \n",
      " 2   Duration              35462 non-null  int64  \n",
      " 3   Net Sales             35462 non-null  float64\n",
      " 4   Commision (in value)  35462 non-null  float64\n",
      " 5   Age                   35462 non-null  int64  \n",
      "dtypes: float64(2), int64(2), object(2)\n",
      "memory usage: 1.9+ MB\n"
     ]
    }
   ],
   "source": [
    "X_train.info()"
   ]
  },
  {
   "cell_type": "markdown",
   "id": "8c101b49-ddd6-4800-9751-e860d2463ef8",
   "metadata": {},
   "source": [
    "# KNN"
   ]
  },
  {
   "cell_type": "code",
   "execution_count": 10,
   "id": "d6debcda",
   "metadata": {},
   "outputs": [],
   "source": [
    "from sklearn.neighbors import KNeighborsClassifier"
   ]
  },
  {
   "cell_type": "code",
   "execution_count": 11,
   "id": "f6300714",
   "metadata": {},
   "outputs": [],
   "source": [
    "num_columns = ['Duration', 'Net Sales', 'Commision (in value)', 'Age']\n",
    "cat_columns = ['Agency Type', 'Distribution Channel']\n",
    " \n",
    "\n",
    "numeric_pipeline = Pipeline([\n",
    "#    ('Nama Instruksi', Fungsi yang digunakan), <- Optional\n",
    "    ('imputer', SimpleImputer(strategy='mean')),\n",
    "    ('scaler', RobustScaler()) \n",
    "#    ('poly', PolynomialFeatures(degree=2, include_bias = False)), <- Optional\n",
    "#    ('power', PowerTransformer(method='yeo-johnson')) <- Optional\n",
    "])\n",
    "\n",
    "\n",
    "categoric_pipeline = Pipeline([\n",
    "    ('imputer', SimpleImputer(strategy='most_frequent')),\n",
    "    ('encoder', OneHotEncoder(drop='first'))\n",
    "])\n",
    "\n",
    "\n",
    "preprocessor = ColumnTransformer([\n",
    "    ## ('Nama Instruksi', Fungsi instruksi, kolom)\n",
    "    ('numeric', numeric_pipeline, num_columns),\n",
    "    ('categoric', categoric_pipeline, cat_columns),\n",
    "    # ('encode', ce.BinaryEncoder(), ['Destination'])\n",
    "])\n",
    "\n",
    "\n",
    "pipe_KNN = Pipeline([\n",
    "    ('prep', preprocessor),\n",
    "    ('algo', KNeighborsClassifier())\n",
    "])"
   ]
  },
  {
   "cell_type": "code",
   "execution_count": 12,
   "id": "860b5044-2511-4d8d-9317-9d4556f105e4",
   "metadata": {},
   "outputs": [
    {
     "data": {
      "text/html": [
       "<div>\n",
       "<style scoped>\n",
       "    .dataframe tbody tr th:only-of-type {\n",
       "        vertical-align: middle;\n",
       "    }\n",
       "\n",
       "    .dataframe tbody tr th {\n",
       "        vertical-align: top;\n",
       "    }\n",
       "\n",
       "    .dataframe thead th {\n",
       "        text-align: right;\n",
       "    }\n",
       "</style>\n",
       "<table border=\"1\" class=\"dataframe\">\n",
       "  <thead>\n",
       "    <tr style=\"text-align: right;\">\n",
       "      <th></th>\n",
       "      <th>Agency Type</th>\n",
       "      <th>Distribution Channel</th>\n",
       "      <th>Duration</th>\n",
       "      <th>Net Sales</th>\n",
       "      <th>Commision (in value)</th>\n",
       "      <th>Age</th>\n",
       "    </tr>\n",
       "  </thead>\n",
       "  <tbody>\n",
       "    <tr>\n",
       "      <th>11041</th>\n",
       "      <td>Travel Agency</td>\n",
       "      <td>Online</td>\n",
       "      <td>3</td>\n",
       "      <td>20.00</td>\n",
       "      <td>0.00</td>\n",
       "      <td>36</td>\n",
       "    </tr>\n",
       "    <tr>\n",
       "      <th>27336</th>\n",
       "      <td>Airlines</td>\n",
       "      <td>Online</td>\n",
       "      <td>16</td>\n",
       "      <td>1.93</td>\n",
       "      <td>0.54</td>\n",
       "      <td>48</td>\n",
       "    </tr>\n",
       "    <tr>\n",
       "      <th>30332</th>\n",
       "      <td>Travel Agency</td>\n",
       "      <td>Online</td>\n",
       "      <td>2</td>\n",
       "      <td>10.00</td>\n",
       "      <td>0.00</td>\n",
       "      <td>36</td>\n",
       "    </tr>\n",
       "    <tr>\n",
       "      <th>17529</th>\n",
       "      <td>Travel Agency</td>\n",
       "      <td>Online</td>\n",
       "      <td>7</td>\n",
       "      <td>39.60</td>\n",
       "      <td>23.76</td>\n",
       "      <td>30</td>\n",
       "    </tr>\n",
       "    <tr>\n",
       "      <th>44125</th>\n",
       "      <td>Travel Agency</td>\n",
       "      <td>Online</td>\n",
       "      <td>3</td>\n",
       "      <td>16.00</td>\n",
       "      <td>0.00</td>\n",
       "      <td>30</td>\n",
       "    </tr>\n",
       "  </tbody>\n",
       "</table>\n",
       "</div>"
      ],
      "text/plain": [
       "         Agency Type Distribution Channel  Duration  Net Sales  \\\n",
       "11041  Travel Agency               Online         3      20.00   \n",
       "27336       Airlines               Online        16       1.93   \n",
       "30332  Travel Agency               Online         2      10.00   \n",
       "17529  Travel Agency               Online         7      39.60   \n",
       "44125  Travel Agency               Online         3      16.00   \n",
       "\n",
       "       Commision (in value)  Age  \n",
       "11041                  0.00   36  \n",
       "27336                  0.54   48  \n",
       "30332                  0.00   36  \n",
       "17529                 23.76   30  \n",
       "44125                  0.00   30  "
      ]
     },
     "execution_count": 12,
     "metadata": {},
     "output_type": "execute_result"
    }
   ],
   "source": [
    "X_train.head()"
   ]
  },
  {
   "cell_type": "code",
   "execution_count": 13,
   "id": "a1ff1e04",
   "metadata": {},
   "outputs": [
    {
     "data": {
      "text/plain": [
       "Pipeline(steps=[('prep',\n",
       "                 ColumnTransformer(transformers=[('numeric',\n",
       "                                                  Pipeline(steps=[('imputer',\n",
       "                                                                   SimpleImputer()),\n",
       "                                                                  ('scaler',\n",
       "                                                                   RobustScaler())]),\n",
       "                                                  ['Duration', 'Net Sales',\n",
       "                                                   'Commision (in value)',\n",
       "                                                   'Age']),\n",
       "                                                 ('categoric',\n",
       "                                                  Pipeline(steps=[('imputer',\n",
       "                                                                   SimpleImputer(strategy='most_frequent')),\n",
       "                                                                  ('encoder',\n",
       "                                                                   OneHotEncoder(drop='first'))]),\n",
       "                                                  ['Agency Type',\n",
       "                                                   'Distribution Channel'])])),\n",
       "                ('algo', KNeighborsClassifier())])"
      ]
     },
     "execution_count": 13,
     "metadata": {},
     "output_type": "execute_result"
    }
   ],
   "source": [
    "pipe_KNN.fit(X_train, y_train)"
   ]
  },
  {
   "cell_type": "code",
   "execution_count": 14,
   "id": "7390899c",
   "metadata": {},
   "outputs": [],
   "source": [
    "y_knn = pipe_KNN.predict(X_test)"
   ]
  },
  {
   "cell_type": "code",
   "execution_count": 15,
   "id": "c9604e75",
   "metadata": {},
   "outputs": [
    {
     "name": "stdout",
     "output_type": "stream",
     "text": [
      "              precision    recall  f1-score   support\n",
      "\n",
      "          No       0.98      1.00      0.99      8731\n",
      "         Yes       0.00      0.00      0.00       135\n",
      "\n",
      "    accuracy                           0.98      8866\n",
      "   macro avg       0.49      0.50      0.50      8866\n",
      "weighted avg       0.97      0.98      0.98      8866\n",
      "\n"
     ]
    }
   ],
   "source": [
    "print(classification_report(y_test, y_knn))"
   ]
  },
  {
   "cell_type": "markdown",
   "id": "f50aeb44-2b2c-4af6-8da7-62f1d1c1108d",
   "metadata": {},
   "source": [
    "# TUNING KNN"
   ]
  },
  {
   "cell_type": "code",
   "execution_count": 16,
   "id": "36cdac9f",
   "metadata": {},
   "outputs": [],
   "source": [
    "param_KNN = {\n",
    "    'algo__n_neighbors' : np.arange(1, 51, 2),\n",
    "    'algo__weights': ['uniform','distance'],\n",
    "    'algo__p' : [1,2]\n",
    "}"
   ]
  },
  {
   "cell_type": "code",
   "execution_count": 17,
   "id": "ce9ed287",
   "metadata": {},
   "outputs": [],
   "source": [
    "skf = StratifiedKFold(n_splits=4) # Cross validation , untuk mngetahui kestabilan data"
   ]
  },
  {
   "cell_type": "code",
   "execution_count": 18,
   "id": "a42e2335",
   "metadata": {},
   "outputs": [],
   "source": [
    "GSS_KNN = GridSearchCV(pipe_KNN, param_KNN, cv = skf, scoring = 'f1', n_jobs=-1, verbose=1)"
   ]
  },
  {
   "cell_type": "code",
   "execution_count": 19,
   "id": "13140abd",
   "metadata": {},
   "outputs": [
    {
     "name": "stdout",
     "output_type": "stream",
     "text": [
      "Fitting 4 folds for each of 100 candidates, totalling 400 fits\n"
     ]
    },
    {
     "data": {
      "text/plain": [
       "GridSearchCV(cv=StratifiedKFold(n_splits=4, random_state=None, shuffle=False),\n",
       "             estimator=Pipeline(steps=[('prep',\n",
       "                                        ColumnTransformer(transformers=[('numeric',\n",
       "                                                                         Pipeline(steps=[('imputer',\n",
       "                                                                                          SimpleImputer()),\n",
       "                                                                                         ('scaler',\n",
       "                                                                                          RobustScaler())]),\n",
       "                                                                         ['Duration',\n",
       "                                                                          'Net '\n",
       "                                                                          'Sales',\n",
       "                                                                          'Commision '\n",
       "                                                                          '(in '\n",
       "                                                                          'value)',\n",
       "                                                                          'Age']),\n",
       "                                                                        ('categoric',\n",
       "                                                                         Pipeline(steps=[('imputer',\n",
       "                                                                                          SimpleImputer(strategy='most_frequent')),\n",
       "                                                                                         ('encoder',\n",
       "                                                                                          OneHotEncoder(drop='first'))]),\n",
       "                                                                         ['Agency '\n",
       "                                                                          'Type',\n",
       "                                                                          'Distribution '\n",
       "                                                                          'Channel'])])),\n",
       "                                       ('algo', KNeighborsClassifier())]),\n",
       "             n_jobs=-1,\n",
       "             param_grid={'algo__n_neighbors': array([ 1,  3,  5,  7,  9, 11, 13, 15, 17, 19, 21, 23, 25, 27, 29, 31, 33,\n",
       "       35, 37, 39, 41, 43, 45, 47, 49]),\n",
       "                         'algo__p': [1, 2],\n",
       "                         'algo__weights': ['uniform', 'distance']},\n",
       "             scoring='f1', verbose=1)"
      ]
     },
     "execution_count": 19,
     "metadata": {},
     "output_type": "execute_result"
    }
   ],
   "source": [
    "GSS_KNN.fit(X_train, y_train)"
   ]
  },
  {
   "cell_type": "code",
   "execution_count": 20,
   "id": "98f69e1b",
   "metadata": {},
   "outputs": [],
   "source": [
    "KNN_Tuned = GSS_KNN.best_estimator_"
   ]
  },
  {
   "cell_type": "code",
   "execution_count": 21,
   "id": "d4f7eb77",
   "metadata": {},
   "outputs": [],
   "source": [
    "y_ts_KNN = KNN_Tuned.predict(X_test)"
   ]
  },
  {
   "cell_type": "code",
   "execution_count": 22,
   "id": "edda501a",
   "metadata": {},
   "outputs": [
    {
     "name": "stdout",
     "output_type": "stream",
     "text": [
      "              precision    recall  f1-score   support\n",
      "\n",
      "          No       0.99      0.99      0.99      8731\n",
      "         Yes       0.05      0.04      0.05       135\n",
      "\n",
      "    accuracy                           0.97      8866\n",
      "   macro avg       0.52      0.52      0.52      8866\n",
      "weighted avg       0.97      0.97      0.97      8866\n",
      "\n"
     ]
    }
   ],
   "source": [
    "print(classification_report(y_test, y_ts_KNN))"
   ]
  },
  {
   "cell_type": "markdown",
   "id": "daced0cb-b78c-4106-b91e-8fc4105036ab",
   "metadata": {},
   "source": [
    "# RANDOM FOREST CLASSIFIER"
   ]
  },
  {
   "cell_type": "code",
   "execution_count": 23,
   "id": "4e05b3f0-f54e-4224-8ff2-58449f6b28ed",
   "metadata": {},
   "outputs": [],
   "source": [
    "num_columns = ['Duration', 'Net Sales', 'Commision (in value)', 'Age']\n",
    "cat_columns = ['Agency Type', 'Distribution Channel',]\n",
    " \n",
    "\n",
    "numeric_pipeline = Pipeline([\n",
    "#    ('Nama Instruksi', Fungsi yang digunakan), <- Optional\n",
    "    ('imputer', SimpleImputer(strategy='mean')),\n",
    "    ('scaler', RobustScaler())\n",
    "#    ('poly', PolynomialFeatures(degree=2, include_bias = False)), <- Optional\n",
    "#    ('power', PowerTransformer(method='yeo-johnson')) <- Optional\n",
    "])\n",
    "\n",
    "\n",
    "categoric_pipeline = Pipeline([\n",
    "    ('imputer', SimpleImputer(strategy='most_frequent')),\n",
    "    ('encoder', OneHotEncoder(drop='first'))\n",
    "])\n",
    "\n",
    "\n",
    "preprocessor = ColumnTransformer([\n",
    "    ## ('Nama Instruksi', Fungsi instruksi, kolom)\n",
    "    ('numeric', numeric_pipeline, num_columns),\n",
    "    ('categoric', categoric_pipeline, cat_columns),\n",
    "    # ('encode', ce.BinaryEncoder(), ['Destination'])\n",
    "])\n",
    "\n",
    "\n",
    "pipe_RF = Pipeline([\n",
    "    ('prep', preprocessor),\n",
    "    ('algo', RandomForestClassifier())\n",
    "])"
   ]
  },
  {
   "cell_type": "code",
   "execution_count": 24,
   "id": "df09302d-bbc9-41f4-88a1-bf862c0b25a4",
   "metadata": {},
   "outputs": [
    {
     "data": {
      "text/plain": [
       "Pipeline(steps=[('prep',\n",
       "                 ColumnTransformer(transformers=[('numeric',\n",
       "                                                  Pipeline(steps=[('imputer',\n",
       "                                                                   SimpleImputer()),\n",
       "                                                                  ('scaler',\n",
       "                                                                   RobustScaler())]),\n",
       "                                                  ['Duration', 'Net Sales',\n",
       "                                                   'Commision (in value)',\n",
       "                                                   'Age']),\n",
       "                                                 ('categoric',\n",
       "                                                  Pipeline(steps=[('imputer',\n",
       "                                                                   SimpleImputer(strategy='most_frequent')),\n",
       "                                                                  ('encoder',\n",
       "                                                                   OneHotEncoder(drop='first'))]),\n",
       "                                                  ['Agency Type',\n",
       "                                                   'Distribution Channel'])])),\n",
       "                ('algo', RandomForestClassifier())])"
      ]
     },
     "execution_count": 24,
     "metadata": {},
     "output_type": "execute_result"
    }
   ],
   "source": [
    "pipe_RF.fit(X_train, y_train)"
   ]
  },
  {
   "cell_type": "code",
   "execution_count": 25,
   "id": "acadc46e-984a-4dc3-b059-b3e8be4fe601",
   "metadata": {},
   "outputs": [],
   "source": [
    "y_svm = pipe_RF.predict(X_test)"
   ]
  },
  {
   "cell_type": "code",
   "execution_count": 26,
   "id": "7017a3e4-5bec-4119-a19b-262db6ad1052",
   "metadata": {},
   "outputs": [
    {
     "name": "stdout",
     "output_type": "stream",
     "text": [
      "              precision    recall  f1-score   support\n",
      "\n",
      "          No       0.98      1.00      0.99      8731\n",
      "         Yes       0.07      0.01      0.02       135\n",
      "\n",
      "    accuracy                           0.98      8866\n",
      "   macro avg       0.53      0.51      0.51      8866\n",
      "weighted avg       0.97      0.98      0.98      8866\n",
      "\n"
     ]
    }
   ],
   "source": [
    "print(classification_report(y_test, y_svm))"
   ]
  },
  {
   "cell_type": "markdown",
   "id": "7d5d19a5-f1ed-4863-bae9-72a684b3df6c",
   "metadata": {},
   "source": [
    "# Tuning Random Forest"
   ]
  },
  {
   "cell_type": "code",
   "execution_count": 27,
   "id": "d015baca",
   "metadata": {},
   "outputs": [
    {
     "data": {
      "text/plain": [
       "RandomForestClassifier()"
      ]
     },
     "execution_count": 27,
     "metadata": {},
     "output_type": "execute_result"
    }
   ],
   "source": [
    "RandomForestClassifier()"
   ]
  },
  {
   "cell_type": "code",
   "execution_count": 28,
   "id": "67dd12ef",
   "metadata": {
    "tags": []
   },
   "outputs": [],
   "source": [
    "param_RF = {\n",
    "    \"algo__n_estimators\" : np.arange(100, 1001, 200),\n",
    "    \"algo__max_depth\" : np.arange(5, 50, 5),\n",
    "    \"algo__min_samples_leaf\" : np.arange(1, 21, 2), \n",
    "    # \"algo__max_features\" : np.arange(0, 1, 0.2)\n",
    "}"
   ]
  },
  {
   "cell_type": "code",
   "execution_count": 29,
   "id": "3ed4aea3",
   "metadata": {},
   "outputs": [],
   "source": [
    "GS_RF = GridSearchCV(pipe_RF, param_RF, cv = 3, n_jobs=-1, verbose = 3, scoring = 'precision')"
   ]
  },
  {
   "cell_type": "code",
   "execution_count": 34,
   "id": "98dcd4b2",
   "metadata": {},
   "outputs": [
    {
     "name": "stdout",
     "output_type": "stream",
     "text": [
      "Fitting 3 folds for each of 450 candidates, totalling 1350 fits\n"
     ]
    },
    {
     "data": {
      "text/plain": [
       "GridSearchCV(cv=3,\n",
       "             estimator=Pipeline(steps=[('prep',\n",
       "                                        ColumnTransformer(transformers=[('numeric',\n",
       "                                                                         Pipeline(steps=[('imputer',\n",
       "                                                                                          SimpleImputer()),\n",
       "                                                                                         ('scaler',\n",
       "                                                                                          RobustScaler())]),\n",
       "                                                                         ['Duration',\n",
       "                                                                          'Net '\n",
       "                                                                          'Sales',\n",
       "                                                                          'Commision '\n",
       "                                                                          '(in '\n",
       "                                                                          'value)',\n",
       "                                                                          'Age']),\n",
       "                                                                        ('categoric',\n",
       "                                                                         Pipeline(steps=[('imputer',\n",
       "                                                                                          SimpleImputer(strategy='most_frequent')),\n",
       "                                                                                         ('encoder',\n",
       "                                                                                          OneHotEncoder(drop='first'))]),\n",
       "                                                                         ['Agency '\n",
       "                                                                          'Type',\n",
       "                                                                          'Distribution '\n",
       "                                                                          'Channel'])])),\n",
       "                                       ('algo', RandomForestClassifier())]),\n",
       "             n_jobs=-1,\n",
       "             param_grid={'algo__max_depth': array([ 5, 10, 15, 20, 25, 30, 35, 40, 45]),\n",
       "                         'algo__min_samples_leaf': array([ 1,  3,  5,  7,  9, 11, 13, 15, 17, 19]),\n",
       "                         'algo__n_estimators': array([100, 300, 500, 700, 900])},\n",
       "             scoring='precision', verbose=3)"
      ]
     },
     "execution_count": 34,
     "metadata": {},
     "output_type": "execute_result"
    }
   ],
   "source": [
    "GS_RF.fit(X_train, y_train)"
   ]
  },
  {
   "cell_type": "code",
   "execution_count": 35,
   "id": "95750e08",
   "metadata": {},
   "outputs": [],
   "source": [
    "RF_Tuned = GS_RF.best_estimator_"
   ]
  },
  {
   "cell_type": "code",
   "execution_count": 36,
   "id": "c931c7a0",
   "metadata": {},
   "outputs": [],
   "source": [
    "y_RF = RF_Tuned.predict(X_test)"
   ]
  },
  {
   "cell_type": "code",
   "execution_count": 37,
   "id": "08b2d337",
   "metadata": {},
   "outputs": [
    {
     "name": "stdout",
     "output_type": "stream",
     "text": [
      "              precision    recall  f1-score   support\n",
      "\n",
      "          No       0.98      1.00      0.99      8731\n",
      "         Yes       0.00      0.00      0.00       135\n",
      "\n",
      "    accuracy                           0.98      8866\n",
      "   macro avg       0.49      0.50      0.50      8866\n",
      "weighted avg       0.97      0.98      0.98      8866\n",
      "\n"
     ]
    }
   ],
   "source": [
    "print(classification_report(y_test, y_RF))"
   ]
  },
  {
   "cell_type": "markdown",
   "id": "dd53cf5b-4cfa-433a-a771-ceb498b7e1cc",
   "metadata": {
    "jp-MarkdownHeadingCollapsed": true,
    "tags": []
   },
   "source": [
    "# CONCLUSION\n",
    "\n",
    "Hasil dari 2 Metode yang saya gunakan didapatkan hasil evaluation matrix yang kurang baik dikarenakan jumlah kolom dan data yang sedikit\n",
    "Alasan Melakukan Tuning data adalah untuk mendapatakan improvement parameter terbaik"
   ]
  },
  {
   "cell_type": "markdown",
   "id": "2737a339-0934-4d0b-bf96-9bef7cf73dfe",
   "metadata": {
    "tags": []
   },
   "source": [
    "# RECOMENDATION\n",
    "UNTUK MEMPERBAGUS ATAU MEMPERBAIKI MODEL MAKA DISARANKAN ATAU DI REKOMENDASIKAN UNTUK MENAMBAHKAN :\n",
    "1. Kolom\n",
    "2. Jumlah Data\n",
    "3. Menggunakan Algortima Lain yang memiliki error terkecil dan mencoba kombinasi hyper parameter lain"
   ]
  }
 ],
 "metadata": {
  "kernelspec": {
   "display_name": "Python 3 (ipykernel)",
   "language": "python",
   "name": "python3"
  },
  "language_info": {
   "codemirror_mode": {
    "name": "ipython",
    "version": 3
   },
   "file_extension": ".py",
   "mimetype": "text/x-python",
   "name": "python",
   "nbconvert_exporter": "python",
   "pygments_lexer": "ipython3",
   "version": "3.9.12"
  }
 },
 "nbformat": 4,
 "nbformat_minor": 5
}
